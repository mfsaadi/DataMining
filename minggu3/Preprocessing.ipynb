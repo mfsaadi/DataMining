{
  "nbformat": 4,
  "nbformat_minor": 0,
  "metadata": {
    "colab": {
      "provenance": []
    },
    "kernelspec": {
      "name": "python3",
      "display_name": "Python 3"
    },
    "language_info": {
      "name": "python"
    }
  },
  "cells": [
    {
      "cell_type": "code",
      "execution_count": 1,
      "metadata": {
        "id": "bc8gXR4Hiad6"
      },
      "outputs": [],
      "source": [
        "import numpy as np\n",
        "import matplotlib.pyplot as plt\n",
        "import pandas as pd"
      ]
    },
    {
      "cell_type": "code",
      "source": [
        "dataset = pd.read_csv('Data.csv')\n",
        "x = dataset.iloc[:, :-1].values\n",
        "y = dataset.iloc[:, -1].values"
      ],
      "metadata": {
        "id": "xEAI97Q1ijsK"
      },
      "execution_count": 2,
      "outputs": []
    },
    {
      "cell_type": "code",
      "source": [
        "print(x)"
      ],
      "metadata": {
        "colab": {
          "base_uri": "https://localhost:8080/"
        },
        "id": "TGbReCRhilTq",
        "outputId": "5e46f3b9-4cf7-44f2-a0c0-e0e8048e9b3c"
      },
      "execution_count": 3,
      "outputs": [
        {
          "output_type": "stream",
          "name": "stdout",
          "text": [
            "[['France' 44.0 72000.0]\n",
            " ['Spain' 27.0 48000.0]\n",
            " ['Germany' 30.0 54000.0]\n",
            " ['Spain' 38.0 61000.0]\n",
            " ['Germany' 40.0 nan]\n",
            " ['France' 35.0 58000.0]\n",
            " ['Spain' nan 52000.0]\n",
            " ['France' 48.0 79000.0]\n",
            " ['Germany' 50.0 83000.0]\n",
            " ['France' 37.0 67000.0]\n",
            " ['France' 55.0 65000.0]\n",
            " ['Spain' 47.0 45000.0]\n",
            " ['Germany' 20.0 55000.0]\n",
            " ['Spain' 48.0 61000.0]\n",
            " ['Germany' 30.0 nan]]\n"
          ]
        }
      ]
    },
    {
      "cell_type": "code",
      "source": [
        "print(y)"
      ],
      "metadata": {
        "colab": {
          "base_uri": "https://localhost:8080/"
        },
        "id": "Xzg1mqeriwUD",
        "outputId": "5ffb8b8e-9f12-4dfd-d9ab-9b903bd5be25"
      },
      "execution_count": 4,
      "outputs": [
        {
          "output_type": "stream",
          "name": "stdout",
          "text": [
            "['No' 'Yes' 'No' 'No' 'Yes' 'Yes' 'No' 'Yes' 'No' 'Yes' 'No' 'Yes' 'Yes'\n",
            " 'Yes' 'No']\n"
          ]
        }
      ]
    },
    {
      "cell_type": "code",
      "source": [
        "from sklearn.impute import SimpleImputer\n",
        "imputer = SimpleImputer(missing_values=np.nan, strategy='mean')\n",
        "imputer.fit(x[:, 1:3])\n",
        "x[:, 1:3] = imputer.transform(x[:, 1:3])"
      ],
      "metadata": {
        "id": "sc3To8Y5izBq"
      },
      "execution_count": 5,
      "outputs": []
    },
    {
      "cell_type": "code",
      "source": [
        "print(x)"
      ],
      "metadata": {
        "colab": {
          "base_uri": "https://localhost:8080/"
        },
        "id": "D2BIUd_yi8P4",
        "outputId": "d4a80b67-bd66-422d-bd9a-0fe959c1a501"
      },
      "execution_count": 6,
      "outputs": [
        {
          "output_type": "stream",
          "name": "stdout",
          "text": [
            "[['France' 44.0 72000.0]\n",
            " ['Spain' 27.0 48000.0]\n",
            " ['Germany' 30.0 54000.0]\n",
            " ['Spain' 38.0 61000.0]\n",
            " ['Germany' 40.0 61538.46153846154]\n",
            " ['France' 35.0 58000.0]\n",
            " ['Spain' 39.214285714285715 52000.0]\n",
            " ['France' 48.0 79000.0]\n",
            " ['Germany' 50.0 83000.0]\n",
            " ['France' 37.0 67000.0]\n",
            " ['France' 55.0 65000.0]\n",
            " ['Spain' 47.0 45000.0]\n",
            " ['Germany' 20.0 55000.0]\n",
            " ['Spain' 48.0 61000.0]\n",
            " ['Germany' 30.0 61538.46153846154]]\n"
          ]
        }
      ]
    },
    {
      "cell_type": "code",
      "source": [
        "from sklearn.compose import ColumnTransformer\n",
        "from sklearn.preprocessing import OneHotEncoder\n",
        "ct = ColumnTransformer(transformers=[('encoder', OneHotEncoder(), [0])], remainder='passthrough')\n",
        "x = np.array(ct.fit_transform(x))"
      ],
      "metadata": {
        "id": "byfUHzujjClw"
      },
      "execution_count": 7,
      "outputs": []
    },
    {
      "cell_type": "code",
      "source": [
        "print(x)"
      ],
      "metadata": {
        "colab": {
          "base_uri": "https://localhost:8080/"
        },
        "id": "vPFMkJiqjHco",
        "outputId": "b4210b08-abea-473d-a751-51e19b04e014"
      },
      "execution_count": 8,
      "outputs": [
        {
          "output_type": "stream",
          "name": "stdout",
          "text": [
            "[[1.0 0.0 0.0 44.0 72000.0]\n",
            " [0.0 0.0 1.0 27.0 48000.0]\n",
            " [0.0 1.0 0.0 30.0 54000.0]\n",
            " [0.0 0.0 1.0 38.0 61000.0]\n",
            " [0.0 1.0 0.0 40.0 61538.46153846154]\n",
            " [1.0 0.0 0.0 35.0 58000.0]\n",
            " [0.0 0.0 1.0 39.214285714285715 52000.0]\n",
            " [1.0 0.0 0.0 48.0 79000.0]\n",
            " [0.0 1.0 0.0 50.0 83000.0]\n",
            " [1.0 0.0 0.0 37.0 67000.0]\n",
            " [1.0 0.0 0.0 55.0 65000.0]\n",
            " [0.0 0.0 1.0 47.0 45000.0]\n",
            " [0.0 1.0 0.0 20.0 55000.0]\n",
            " [0.0 0.0 1.0 48.0 61000.0]\n",
            " [0.0 1.0 0.0 30.0 61538.46153846154]]\n"
          ]
        }
      ]
    },
    {
      "cell_type": "code",
      "source": [
        "from sklearn.preprocessing import LabelEncoder\n",
        "le = LabelEncoder()\n",
        "y = le.fit_transform(y)"
      ],
      "metadata": {
        "id": "8wmh_XLajM83"
      },
      "execution_count": 9,
      "outputs": []
    },
    {
      "cell_type": "code",
      "source": [
        "print(y)"
      ],
      "metadata": {
        "colab": {
          "base_uri": "https://localhost:8080/"
        },
        "id": "huYfMQuYjQOP",
        "outputId": "4dbc14ed-f942-4fe2-fb54-71476b1be992"
      },
      "execution_count": 10,
      "outputs": [
        {
          "output_type": "stream",
          "name": "stdout",
          "text": [
            "[0 1 0 0 1 1 0 1 0 1 0 1 1 1 0]\n"
          ]
        }
      ]
    },
    {
      "cell_type": "code",
      "source": [
        "from sklearn.model_selection import train_test_split\n",
        "x_train, x_test, y_train, y_test = train_test_split(x, y, test_size=0.4, random_state=1)"
      ],
      "metadata": {
        "id": "loX89pQPjV8v"
      },
      "execution_count": 11,
      "outputs": []
    },
    {
      "cell_type": "code",
      "source": [
        "print(x_train)"
      ],
      "metadata": {
        "colab": {
          "base_uri": "https://localhost:8080/"
        },
        "id": "ORRvbesIjbi-",
        "outputId": "ed102235-4389-40a6-d23d-a76147a6bc1c"
      },
      "execution_count": 12,
      "outputs": [
        {
          "output_type": "stream",
          "name": "stdout",
          "text": [
            "[[0.0 0.0 1.0 27.0 48000.0]\n",
            " [0.0 0.0 1.0 48.0 61000.0]\n",
            " [1.0 0.0 0.0 44.0 72000.0]\n",
            " [0.0 1.0 0.0 30.0 61538.46153846154]\n",
            " [1.0 0.0 0.0 37.0 67000.0]\n",
            " [0.0 1.0 0.0 50.0 83000.0]\n",
            " [0.0 1.0 0.0 20.0 55000.0]\n",
            " [0.0 0.0 1.0 47.0 45000.0]\n",
            " [1.0 0.0 0.0 35.0 58000.0]]\n"
          ]
        }
      ]
    },
    {
      "cell_type": "code",
      "source": [
        "print(x_test)"
      ],
      "metadata": {
        "colab": {
          "base_uri": "https://localhost:8080/"
        },
        "id": "yFGt1uF1jsDA",
        "outputId": "f41acd58-a0af-4a73-920d-5b2542b2f191"
      },
      "execution_count": 13,
      "outputs": [
        {
          "output_type": "stream",
          "name": "stdout",
          "text": [
            "[[0.0 0.0 1.0 38.0 61000.0]\n",
            " [1.0 0.0 0.0 48.0 79000.0]\n",
            " [0.0 0.0 1.0 39.214285714285715 52000.0]\n",
            " [0.0 1.0 0.0 30.0 54000.0]\n",
            " [1.0 0.0 0.0 55.0 65000.0]\n",
            " [0.0 1.0 0.0 40.0 61538.46153846154]]\n"
          ]
        }
      ]
    },
    {
      "cell_type": "code",
      "source": [
        "print(y_train)"
      ],
      "metadata": {
        "colab": {
          "base_uri": "https://localhost:8080/"
        },
        "id": "5IT-NR5hjw4M",
        "outputId": "76c38b9a-50e1-40fa-88f9-5832efed0a74"
      },
      "execution_count": 14,
      "outputs": [
        {
          "output_type": "stream",
          "name": "stdout",
          "text": [
            "[1 1 0 0 1 0 1 1 1]\n"
          ]
        }
      ]
    },
    {
      "cell_type": "code",
      "source": [
        "print(y_test)"
      ],
      "metadata": {
        "colab": {
          "base_uri": "https://localhost:8080/"
        },
        "id": "OalaWA1KjzEk",
        "outputId": "c4da1dd8-c845-4e1e-b3ce-cf8f818b2737"
      },
      "execution_count": 15,
      "outputs": [
        {
          "output_type": "stream",
          "name": "stdout",
          "text": [
            "[0 1 0 0 0 1]\n"
          ]
        }
      ]
    },
    {
      "cell_type": "code",
      "source": [
        "from sklearn.preprocessing import StandardScaler\n",
        "sc = StandardScaler()\n",
        "x_train[:, 3:] = sc.fit_transform(x_train[:, 3:])\n",
        "x_test[:, 3:] = sc.transform(x_test[:, 3:])"
      ],
      "metadata": {
        "id": "ngDPSnxxj1df"
      },
      "execution_count": 16,
      "outputs": []
    },
    {
      "cell_type": "code",
      "source": [
        "print(x_train)"
      ],
      "metadata": {
        "colab": {
          "base_uri": "https://localhost:8080/"
        },
        "id": "Gc3mTz43j9A2",
        "outputId": "506add96-efc0-405f-c5f4-5cf7a1897651"
      },
      "execution_count": 17,
      "outputs": [
        {
          "output_type": "stream",
          "name": "stdout",
          "text": [
            "[[0.0 0.0 1.0 -1.0685630178313883 -1.1854295082397188]\n",
            " [0.0 0.0 1.0 1.0573149860647417 -0.015385198030365671]\n",
            " [1.0 0.0 0.0 0.6523858424654789 0.9746522952237023]\n",
            " [0.0 1.0 0.0 -0.7648661601319411 0.033078175765288056]\n",
            " [1.0 0.0 0.0 -0.056240158833231114 0.5246352528354896]\n",
            " [0.0 1.0 0.0 1.2597795578643731 1.9646897884777703]\n",
            " [0.0 1.0 0.0 -1.7771890191300983 -0.5554056488962209]\n",
            " [0.0 0.0 1.0 0.956082700164926 -1.4554397336726463]\n",
            " [1.0 0.0 0.0 -0.25870473063286253 -0.28539542346329333]]\n"
          ]
        }
      ]
    },
    {
      "cell_type": "code",
      "source": [
        "print(x_test)"
      ],
      "metadata": {
        "colab": {
          "base_uri": "https://localhost:8080/"
        },
        "id": "9f_hzAUEj-zi",
        "outputId": "72f1db34-c582-4f43-b301-998191fa4088"
      },
      "execution_count": 18,
      "outputs": [
        {
          "output_type": "stream",
          "name": "stdout",
          "text": [
            "[[0.0 0.0 1.0 0.0449921270665846 -0.015385198030365671]\n",
            " [1.0 0.0 0.0 1.0573149860647417 1.6046761545672001]\n",
            " [0.0 0.0 1.0 0.16791704565921806 -0.8254158743291486]\n",
            " [0.0 1.0 0.0 -0.7648661601319411 -0.6454090573738634]\n",
            " [1.0 0.0 0.0 1.7659409873634517 0.34462843588020453]\n",
            " [0.0 1.0 0.0 0.24745669886621602 0.033078175765288056]]\n"
          ]
        }
      ]
    }
  ]
}